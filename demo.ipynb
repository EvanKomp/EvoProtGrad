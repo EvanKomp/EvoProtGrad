{
 "cells": [
  {
   "cell_type": "code",
   "execution_count": null,
   "id": "0ed7b124-c09d-4cbe-9e6c-60e0fc61e88a",
   "metadata": {},
   "outputs": [],
   "source": [
    "import evo_prot_grad\n",
    "from transformers import AutoModel\n",
    "import numpy as np\n",
    "import matplotlib.pyplot as plt\n",
    "import seaborn as sns; \n",
    "sns.set_style(\"whitegrid\")\n",
    "# set font size seaborn\n",
    "sns.set_context(\"notebook\", font_scale=1.25)\n",
    "\n",
    "%load_ext autoreload\n",
    "%autoreload 2"
   ]
  },
  {
   "cell_type": "markdown",
   "id": "dfa0a31f-8648-47a2-b4b3-8879c0791b18",
   "metadata": {},
   "source": [
    "## HuggingFace ESM2 8M model + Supervised fluorescence regression model"
   ]
  },
  {
   "cell_type": "code",
   "execution_count": null,
   "id": "e7c7627f-2710-4eb5-beee-73a136847b27",
   "metadata": {
    "tags": []
   },
   "outputs": [],
   "source": [
    "# HuggingFace ESM2 8M model\n",
    "esm2_expert = evo_prot_grad.get_expert('esm', 'mutant_marginal', temperature = 1.0, device = 'cpu')\n",
    "\n",
    "# Supervised fluorescence regression model\n",
    "gfp_expert = evo_prot_grad.get_expert(\n",
    "                        'onehot_downstream_regression',\n",
    "                        'attribute_value',\n",
    "                        temperature = 1.0,\n",
    "                        model = AutoModel.from_pretrained('NREL/avGFP-fluorescence-onehot-cnn',trust_remote_code=True),\n",
    "                        device = 'cpu')\n",
    "\n",
    "variants, scores = evo_prot_grad.DirectedEvolution(\n",
    "                        wt_fasta = 'test/gfp.fasta',\n",
    "                        output = 'all',\n",
    "                        experts = [esm2_expert, gfp_expert],\n",
    "                        parallel_chains = 2,\n",
    "                        n_steps = 5,              \n",
    "                        max_mutations = 15,\n",
    "                        verbose = False\n",
    ")()\n"
   ]
  },
  {
   "cell_type": "code",
   "execution_count": null,
   "id": "22431583-0fc2-424c-a1c6-128e04e364a2",
   "metadata": {},
   "outputs": [],
   "source": [
    "plt.figure()\n",
    "for i in range(scores.shape[1]):\n",
    "    plt.plot(scores[:,i], alpha=0.5)\n",
    "    best_step = np.argmax(scores[:,i])\n",
    "    best_score = scores[best_step,i]\n",
    "    plt.plot(np.arange(0,scores.shape[0]), best_score * np.ones((scores.shape[0],)), c='black')\n",
    "plt.plot(np.arange(0,scores.shape[0]), np.zeros((scores.shape[0],)), c='red', linewidth=3, label='wild type')\n",
    "plt.xlabel('MCMC step')\n",
    "plt.ylabel('best product of experts score')\n",
    "plt.legend()\n",
    "plt.show()"
   ]
  },
  {
   "cell_type": "code",
   "execution_count": null,
   "id": "41ff5d3d-2333-4f8e-a1f7-e9f4162096d7",
   "metadata": {},
   "outputs": [],
   "source": [
    "with open('test/gfp.fasta', 'r') as f:\n",
    "    for line in f:\n",
    "        if line[0] != '>':\n",
    "            wtseq = ' '.join(line.strip())\n",
    "\n",
    "for i in range(scores.shape[1]):\n",
    "    best_step = np.argmax(scores[:,i])\n",
    "    print(f'chain {i}, score: {scores[best_step,i]}')\n",
    "    evo_prot_grad.common.utils.print_variant_in_color(variants[best_step][i], wtseq)"
   ]
  },
  {
   "cell_type": "markdown",
   "id": "82afdb7d-3032-47ef-89bf-b02a9c3b3669",
   "metadata": {},
   "source": [
    "## Preserve regions in the wild type sequence"
   ]
  },
  {
   "cell_type": "code",
   "execution_count": null,
   "id": "70d33bf1-e2b2-4d9d-b430-18e519f25998",
   "metadata": {},
   "outputs": [],
   "source": [
    "variants, scores = evo_prot_grad.DirectedEvolution(\n",
    "                        wt_fasta = 'test/gfp.fasta',\n",
    "                        output = 'all',\n",
    "                        experts = [esm2_expert, gfp_expert],\n",
    "                        parallel_chains = 16,\n",
    "                        n_steps = 1000,              \n",
    "                        max_mutations = 15,\n",
    "                        verbose = False,\n",
    "                        preserved_regions = [(0,13),(150,237)]\n",
    ")()\n"
   ]
  },
  {
   "cell_type": "code",
   "execution_count": null,
   "id": "d6af1a50-0604-45ac-afa5-04e9dfa1c665",
   "metadata": {},
   "outputs": [],
   "source": [
    "plt.figure()\n",
    "for i in range(scores.shape[1]):\n",
    "    plt.plot(scores[:,i], alpha=0.5)\n",
    "    best_step = np.argmax(scores[:,i])\n",
    "    best_score = scores[best_step,i]\n",
    "    plt.plot(np.arange(0,scores.shape[0]), best_score * np.ones((scores.shape[0],)), c='black')\n",
    "plt.plot(np.arange(0,scores.shape[0]), np.zeros((scores.shape[0],)), c='red', linewidth=3, label='wild type')\n",
    "plt.xlabel('MCMC step')\n",
    "plt.ylabel('best product of experts score')\n",
    "plt.legend()\n",
    "plt.show()\n",
    "\n",
    "for i in range(scores.shape[1]):\n",
    "    best_step = np.argmax(scores[:,i])\n",
    "    print(f'chain {i}, score: {scores[best_step,i]}')\n",
    "    evo_prot_grad.common.utils.print_variant_in_color(variants[best_step][i], wtseq)"
   ]
  }
 ],
 "metadata": {
  "kernelspec": {
   "display_name": "Python 3 (ipykernel)",
   "language": "python",
   "name": "python3"
  },
  "language_info": {
   "codemirror_mode": {
    "name": "ipython",
    "version": 3
   },
   "file_extension": ".py",
   "mimetype": "text/x-python",
   "name": "python",
   "nbconvert_exporter": "python",
   "pygments_lexer": "ipython3",
   "version": "3.9.17"
  }
 },
 "nbformat": 4,
 "nbformat_minor": 5
}
